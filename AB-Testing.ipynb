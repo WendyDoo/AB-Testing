{
 "cells": [
  {
   "cell_type": "code",
   "execution_count": 2,
   "id": "c3effa58",
   "metadata": {},
   "outputs": [],
   "source": [
    "import pandas as pd\n",
    "from scipy import stats\n",
    "\n",
    "# Sample data\n",
    "data = {\n",
    "    'version': ['A'] * 1000 + ['B'] * 1000,\n",
    "    'opened': ([1] * 150 + [0] * 850) + ([1] * 180 + [0] * 820)\n",
    "}\n",
    "\n",
    "# Create DataFrame\n",
    "df = pd.DataFrame(data)"
   ]
  },
  {
   "cell_type": "code",
   "execution_count": 4,
   "id": "39929980",
   "metadata": {},
   "outputs": [
    {
     "name": "stdout",
     "output_type": "stream",
     "text": [
      "Open Rate for Version A: 15.00%\n",
      "Open Rate for Version B: 18.00%\n",
      "Chi-squared Test: chi2=2.727272727272727, p-value=0.09864761042929907\n",
      "The difference in open rates is not statistically significant.\n"
     ]
    }
   ],
   "source": [
    "# Calculate open rates\n",
    "open_rate_A = df[df['version'] == 'A']['opened'].mean()\n",
    "open_rate_B = df[df['version'] == 'B']['opened'].mean()\n",
    "\n",
    "print(f\"Open Rate for Version A: {open_rate_A * 100:.2f}%\")\n",
    "print(f\"Open Rate for Version B: {open_rate_B * 100:.2f}%\")\n",
    "\n",
    "# Perform statistical test\n",
    "chi2, p = stats.chisquare([150, 180], f_exp=[(150+180)/2, (150+180)/2])\n",
    "\n",
    "print(f\"Chi-squared Test: chi2={chi2}, p-value={p}\")\n",
    "\n",
    "if p < 0.05:\n",
    "    print(\"The difference in open rates is statistically significant.\")\n",
    "else:\n",
    "    print(\"The difference in open rates is not statistically significant.\")\n"
   ]
  },
  {
   "cell_type": "code",
   "execution_count": null,
   "id": "61023c41",
   "metadata": {},
   "outputs": [],
   "source": []
  }
 ],
 "metadata": {
  "kernelspec": {
   "display_name": "Python 3 (ipykernel)",
   "language": "python",
   "name": "python3"
  },
  "language_info": {
   "codemirror_mode": {
    "name": "ipython",
    "version": 3
   },
   "file_extension": ".py",
   "mimetype": "text/x-python",
   "name": "python",
   "nbconvert_exporter": "python",
   "pygments_lexer": "ipython3",
   "version": "3.8.12"
  }
 },
 "nbformat": 4,
 "nbformat_minor": 5
}
